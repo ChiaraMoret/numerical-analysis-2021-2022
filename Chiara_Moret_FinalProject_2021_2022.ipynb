{
  "cells": [
    {
      "cell_type": "code",
      "execution_count": 2,
      "id": "3fe94688",
      "metadata": {
        "id": "3fe94688"
      },
      "outputs": [],
      "source": [
        "%matplotlib inline\n",
        "from numpy import *\n",
        "from matplotlib.pyplot import *\n",
        "\n",
        "#additional  modules\n",
        "import pandas as pd\n",
        "import numpy.linalg"
      ]
    },
    {
      "cell_type": "code",
      "source": [],
      "metadata": {
        "id": "2yUETvkozE7b"
      },
      "id": "2yUETvkozE7b",
      "execution_count": null,
      "outputs": []
    },
    {
      "cell_type": "markdown",
      "id": "8184faab",
      "metadata": {
        "id": "8184faab"
      },
      "source": [
        "Consider the following one-dimensional PDE:\n",
        "$$\n",
        "-u_{xx}(x) = f(x)\\quad\\mathrm{ in }\\ \\Omega = (0, \\pi)\n",
        "$$\n",
        "$$\n",
        "u(x) = 0, \\quad\\mathrm{ on }\\ \\partial\\Omega = \\{0, \\pi\\}\n",
        "$$\n",
        "\n",
        "Given the following $4^{th}$ order finite difference approximation of the second order derivative:\n",
        "\n",
        "$$u_{xx}(x_i) = \\frac{-u_{i-2}+16u_{i-1}-30u_i+16u_{i+1}-u_{i+2}}{12h^2}$$\n",
        "\n",
        "Implement a function that given the domain interval, the forcing function, the number of discretization points, the boundary conditions, returns the matrix $A$ and the the right hand side $b$."
      ]
    },
    {
      "cell_type": "markdown",
      "source": [
        "\n",
        "\n",
        "\n",
        "> *Solution notes*. We want to reconstruct the matrix A and the vector b for the equivalent system\n",
        "$$Au = b $$\n",
        "I am assuming the variables `omega` and `bc` will be given as an vectors in the form `[a,b]`\n",
        "\n"
      ],
      "metadata": {
        "id": "rnr3gJTwx2W6"
      },
      "id": "rnr3gJTwx2W6"
    },
    {
      "cell_type": "code",
      "execution_count": 8,
      "id": "1c562f13",
      "metadata": {
        "id": "1c562f13"
      },
      "outputs": [],
      "source": [
        "def finDif(omega,f,n,bc):\n",
        "\n",
        "    stop = omega[1]\n",
        "    start = omega[0]\n",
        "    x = linspace (start, stop, n)\n",
        "    h = (stop - start)/(n-1)\n",
        "\n",
        "    # construct A\n",
        "    d2 = ones((n-2,)) # 2nd Offdiagonal entries\n",
        "    d1 = -16*ones((n-1,)) # 1st Offdiagonal entries\n",
        "    d = 30*ones((n,)) # Diagonal entries\n",
        "    \n",
        "    A = (diag(d2, -2) + diag(d1, -1) + diag(d, 0) + diag(d1, 1) + diag(d2, 2) )\n",
        "    A /= 12 * (h**2)\n",
        "\n",
        "    # construct b\n",
        "    b = f(x)\n",
        "\n",
        "    # fix boundary conditions\n",
        "    A[:,0] = 0\n",
        "    A[0,:] = 0\n",
        "    A[0,0] = 1\n",
        "    A[:,-1] = 0\n",
        "    A[-1,:] = 0\n",
        "    A[-1,-1] = 1\n",
        "\n",
        "    b[0]  = bc[0]\n",
        "    b[-1] = bc[1]\n",
        "\n",
        "    return A, b"
      ]
    },
    {
      "cell_type": "markdown",
      "id": "c21bb21e",
      "metadata": {
        "id": "c21bb21e"
      },
      "source": [
        "Call the function using:"
      ]
    },
    {
      "cell_type": "code",
      "execution_count": null,
      "id": "23af8831",
      "metadata": {
        "id": "23af8831"
      },
      "outputs": [],
      "source": [
        "omega = [0,pi]\n",
        "f = lambda x : sin(x)\n",
        "n=100\n",
        "bc = [0,0]\n",
        "A, b = finDif(omega, f, n, bc)"
      ]
    },
    {
      "cell_type": "markdown",
      "id": "4f8a7c6f",
      "metadata": {
        "id": "4f8a7c6f"
      },
      "source": [
        "Implement two functions that compute the LU and the Cholesky factorization of the system matrix $A$"
      ]
    },
    {
      "cell_type": "code",
      "execution_count": 72,
      "id": "47468a37",
      "metadata": {
        "id": "47468a37"
      },
      "outputs": [],
      "source": [
        "def LU(A):\n",
        "    B = A.copy()\n",
        "    N=len(B)\n",
        "    for k in range(N-1):\n",
        "        if (abs(B[k,k]) < 1e-15):\n",
        "            raise RuntimeError(\"Null pivot\")\n",
        "       \n",
        "        #B[k,k] is the pivot at step k\n",
        "        # here we are constructing the multipliers which will make up the matrix L    \n",
        "        B[k+1:N,k] /= B[k,k]\n",
        "\n",
        "        #here we are constructing the elements of U\n",
        "        for j in range(k+1,N):\n",
        "            B[k+1:N,j] -= B[k+1:N,k]*B[k,j]\n",
        "    \n",
        "    #define the lower triangular matrix L\n",
        "    L=tril(B)\n",
        "\n",
        "    # fix the diagonal of L as 1.\n",
        "    for i in range(N):\n",
        "        L[i,i]=1.\n",
        "\n",
        "    #define the upper triangular matrix B\n",
        "    U = triu(B)\n",
        "    return L, U\n",
        "\n",
        "L, U = LU(A)"
      ]
    },
    {
      "cell_type": "markdown",
      "source": [
        "> *Solution notes*. To compute the Cholesky factoriziation we need $A$ to be symmetric and definite positive. The matrix $A$ as we have defined it meets these requirements."
      ],
      "metadata": {
        "id": "jZ2DGgTUiv39"
      },
      "id": "jZ2DGgTUiv39"
    },
    {
      "cell_type": "code",
      "execution_count": null,
      "id": "193ebfed",
      "metadata": {
        "id": "193ebfed"
      },
      "outputs": [],
      "source": [
        "def cholesky(A):\n",
        "    B = A.copy()\n",
        "    N = len(B)\n",
        "    for k in range(N-1):\n",
        "      #B[k,k] is the pivot at step k\n",
        "        B[k,k] = sqrt(B[k,k])\n",
        "        B[k+1:N,k] /= B[k,k]\n",
        "        \n",
        "        for j in range(k+1,N):\n",
        "            B[j:N,j] -= B[j:N,k]*B[j,k]\n",
        "\n",
        "    #we fix the last row     \n",
        "    B[-1,-1] = sqrt(B[-1,-1])\n",
        "    #we define R transposed\n",
        "    R=tril(B)\n",
        "    return R, R.transpose()\n",
        "\n",
        "HT, H = cholesky(A)"
      ]
    },
    {
      "cell_type": "markdown",
      "id": "41eb8436",
      "metadata": {
        "id": "41eb8436"
      },
      "source": [
        "Implement forward and backward substitution functions to exploit the developed factorization methods to solve the derived linear system of equations."
      ]
    },
    {
      "cell_type": "code",
      "execution_count": 73,
      "id": "019cf0df",
      "metadata": {
        "id": "019cf0df"
      },
      "outputs": [],
      "source": [
        "#this algorithm will solve the system Lx=rhs, where L is a lower triangular matrix\n",
        "def L_solve(L,rhs):\n",
        "\n",
        "    #x will be populated with the solution\n",
        "    x = zeros_like(rhs)\n",
        "    N = len(L)\n",
        "\n",
        "    #the system is solved \"top down\"    \n",
        "    x[0] = rhs[0]/L[0,0]\n",
        "    for i in range(1,N):\n",
        "        x[i] = (rhs[i] - dot(L[i, 0:i], x[0:i]))/L[i,i]\n",
        "    \n",
        "    return x"
      ]
    },
    {
      "cell_type": "code",
      "execution_count": 74,
      "id": "26ce17c4",
      "metadata": {
        "id": "26ce17c4"
      },
      "outputs": [],
      "source": [
        "#this algorithm will solve the system Ux=rhs, where U is a lower triangular matrix\n",
        "def U_solve(U,rhs):\n",
        "  \n",
        "    #x will be populated with the solution\n",
        "    x = zeros_like(rhs)\n",
        "    N = len(U)\n",
        "    \n",
        "    #the system is solved \"bottom up\"\n",
        "    x[N-1] = rhs[N-1]/U[N-1,N-1]\n",
        "    for i in range(N-2,-1,-1):\n",
        "        x[i] = (rhs[i] - dot(U[i, i:N], x[i:N]))/U[i,i] \n",
        "    \n",
        "    return x"
      ]
    },
    {
      "cell_type": "markdown",
      "id": "08ac9ba1",
      "metadata": {
        "id": "08ac9ba1"
      },
      "source": [
        "Solve the derived linear system using the implemented functions and plot the computed solution:"
      ]
    },
    {
      "cell_type": "markdown",
      "source": [
        "\n",
        "\n",
        "> *Solution notes.* We solve the two systems:\n",
        "$$L w =b$$\n",
        "$$U x = w$$\n",
        "In this order.\n",
        "\n"
      ],
      "metadata": {
        "id": "l8hVEiDRrAST"
      },
      "id": "l8hVEiDRrAST"
    },
    {
      "cell_type": "code",
      "execution_count": null,
      "id": "7c1de4f3",
      "metadata": {
        "id": "7c1de4f3"
      },
      "outputs": [],
      "source": [
        "w = L_solve(L,b)\n",
        "u = U_solve(U,w)\n",
        "\n",
        "\n",
        "plot(u,'ro')\n"
      ]
    },
    {
      "cell_type": "markdown",
      "id": "62cdfe65",
      "metadata": {
        "id": "62cdfe65"
      },
      "source": [
        "Considering the new domain $\\Omega = (0,1)$ and the forcing term $f(x) = x(1-x)$ with B.C. $u(x) = 0$, on $\\partial \\Omega = {0,1}$ produce a plot and a table where you show the decay of the error w.r.t. the number of grid points.\n",
        "(The analytical solution for the above problems is $u_{an} = \\frac{x^4}{12} - \\frac{x^3}{6} + \\frac{x}{12}$)"
      ]
    },
    {
      "cell_type": "code",
      "execution_count": 70,
      "id": "91212afb",
      "metadata": {
        "id": "91212afb"
      },
      "outputs": [],
      "source": [
        "def errorDecay (omega,f,u,n,bc):\n",
        "  x = linspace (omega[0], omega[1], n)\n",
        "\n",
        "  # u is the approximate solution\n",
        "  A, b = finDif(omega, f, n, bc)\n",
        "  w = L_solve(L,b)\n",
        "  u_ap = U_solve(U,w)\n",
        "\n",
        "  #vector of actual solutions\n",
        "  u_ex = u(x)\n",
        "\n",
        "  #error\n",
        "  error = abs (u_ex-u_ap)\n",
        "\n",
        "  plot(x,error)\n",
        "  \n",
        "  #table\n",
        "  table = pd.DataFrame([x,error], index=['point', 'error']).T\n",
        "  return table"
      ]
    },
    {
      "cell_type": "code",
      "source": [
        "omega = [0,1]\n",
        "f = lambda x : x*(1-x)\n",
        "bc = [0,0]\n",
        "n=100\n",
        "\n",
        "# u is the actual solution as a function \n",
        "u = lambda x : ((x**4)/12) - ((x**3)/6) + (x/12)\n",
        "\n",
        "print(errorDecay (omega,f,u,n,bc))\n",
        "x = linspace (omega[0], omega[1], n)\n",
        "\n",
        "# u is the approximate solution\n",
        "A, b = finDif(omega, f, n, bc)\n",
        "w = L_solve(L,b)\n",
        "u_ap = U_solve(U,w)\n",
        "#plot(x,u_ap)\n",
        "#plot(x,u(x))"
      ],
      "metadata": {
        "id": "sv4vuhYbo6Ck",
        "colab": {
          "base_uri": "https://localhost:8080/",
          "height": 508
        },
        "outputId": "8ce149f3-1594-42b8-c35f-57eb555ac3ce"
      },
      "id": "sv4vuhYbo6Ck",
      "execution_count": 75,
      "outputs": [
        {
          "output_type": "stream",
          "name": "stdout",
          "text": [
            "       point     error\n",
            "0   0.000000  0.000000\n",
            "1   0.010101  0.006868\n",
            "2   0.020202  0.014281\n",
            "3   0.030303  0.021715\n",
            "4   0.040404  0.029126\n",
            "..       ...       ...\n",
            "95  0.959596  0.029126\n",
            "96  0.969697  0.021715\n",
            "97  0.979798  0.014281\n",
            "98  0.989899  0.006868\n",
            "99  1.000000  0.000000\n",
            "\n",
            "[100 rows x 2 columns]\n"
          ]
        },
        {
          "output_type": "display_data",
          "data": {
            "text/plain": [
              "<Figure size 432x288 with 1 Axes>"
            ],
            "image/png": "[encoded data removed]"
          },
          "metadata": {
            "needs_background": "light"
          }
        }
      ]
    },
    {
      "cell_type": "markdown",
      "id": "c8d5002f",
      "metadata": {
        "id": "c8d5002f"
      },
      "source": [
        "Exploit the derived LU factorizations to compute the condition number of the system's matrix $A$ using the original problem formulation."
      ]
    },
    {
      "cell_type": "markdown",
      "source": [
        "\n",
        "\n",
        "> *Solution notes*. Since $A$ is symmetric defined positive it's condition number can be computed as\n",
        "$$K(A)= \\frac{\\lambda_{max}}{\\lambda_{min}}$$\n",
        "where $\\lambda_{max}$ and $\\lambda_{min}$ are the biggest and smallest eigenvalues of $A$, respectively.\n",
        "To compute $\\lambda_{max}$ we use the power method and to compute $\\lambda_{min}$ we use the inverse power method.\n",
        "\n",
        "\n",
        "\n"
      ],
      "metadata": {
        "id": "O87ICR3OruVD"
      },
      "id": "O87ICR3OruVD"
    },
    {
      "cell_type": "code",
      "source": [
        "\n",
        "x=linspace(0,1,n)\n",
        "def l_max(A,x,eps=1e-5,iMax=500):\n",
        "    l_max = 0\n",
        "    error = 1 + eps\n",
        "\n",
        "    i = 0\n",
        "    while i < iMax and error > eps:\n",
        "        y = x/numpy.linalg.norm(x,2)\n",
        "\n",
        "        x = dot(A,y)\n",
        "        #Rayleigh quotient\n",
        "        l_max = dot(y.conj().T,x)\n",
        "        #we define the error \n",
        "        error = numpy.linalg.norm(x-l_max*y,2)\n",
        "        i += 1\n",
        "\n",
        "    return l_max,y\n",
        "\n",
        "\n",
        "def l_min(A,x,eps=1e-5,iMax=500):\n",
        "    A = copy(A)\n",
        "    L,U = LU(A)\n",
        "    l_min = 0\n",
        "    error = 1 + eps\n",
        "\n",
        "    i = 0\n",
        "    while i < iMax and error > eps:\n",
        "        y = x/numpy.linalg.norm(x,2)\n",
        "\n",
        "        w = L_solve(L,y)\n",
        "        x= U_solve(U,w)\n",
        "        #Rayleigh quotient\n",
        "        l_min = dot(y.conj().T,x)\n",
        "        #we define the error\n",
        "        error = numpy.linalg.norm(x-l_min*y,2)\n",
        "        i += 1\n",
        "\n",
        "    return l_min,y"
      ],
      "metadata": {
        "id": "Xx4yV4IbYusS"
      },
      "id": "Xx4yV4IbYusS",
      "execution_count": 65,
      "outputs": []
    },
    {
      "cell_type": "code",
      "execution_count": null,
      "id": "c25fc1fe",
      "metadata": {
        "id": "c25fc1fe"
      },
      "outputs": [],
      "source": [
        "def condNumb(A):\n",
        "    n=len(A)\n",
        "    x=linspace(0,1,n)\n",
        "    \n",
        "    inv = inverse(A)\n",
        "    lam_max,x_max = l_max(A,x)\n",
        "    lam_min,x_min = l_min(A,x)\n",
        "    condNu = lam_max/lam_min\n",
        "    return condNu\n",
        "\n",
        "print(condNumb(A))"
      ]
    },
    {
      "cell_type": "markdown",
      "id": "2728b49a",
      "metadata": {
        "id": "2728b49a"
      },
      "source": [
        "Implement a preconditioned Conjugant Gradient method to solve the original linear system of equations using an iterative method:"
      ]
    },
    {
      "cell_type": "code",
      "execution_count": null,
      "id": "62b83aee",
      "metadata": {
        "id": "62b83aee"
      },
      "outputs": [],
      "source": [
        "def conjugate_gradient(A, b, P, nmax=len(A), eps=1e-10):\n",
        " \n",
        "  N=len(A)\n",
        "  L,U = LU(P)\n",
        "\n",
        "  #set initial conditions for x_0, r_0, p_0, z_0\n",
        "  #every other vector can be evaluated inside the loop, at i=0 \n",
        "  x = linspace(0,1,N)\n",
        "\n",
        "  r = b - dot (A,x)\n",
        "\n",
        "  z = linalg.solve(P,r)\n",
        "\n",
        "  p = z\n",
        "\n",
        "  error = 1. + eps\n",
        "  i = 0\n",
        "  while (i<nmax and error> eps):\n",
        "    \n",
        "    #we define q=A*p\n",
        "    q = dot(A,p)\n",
        "    alpha = dot(p.T,r)/dot(p.T,q)\n",
        "    x += alpha*p\n",
        "    r -= alpha*q\n",
        "\n",
        "    w = L_solve (L,r)\n",
        "    z = U_solve (U,w)\n",
        "\n",
        "    beta = dot(q.T,z)/dot(q.T,p)\n",
        "    p =  z - beta*p\n",
        "    i += 1\n",
        "    error = linalg.norm(r,2)\n",
        "\n",
        "  return x"
      ]
    },
    {
      "cell_type": "code",
      "source": [
        "x = conjugate_gradient(A,b,identity(len(A)))\n",
        "print(x)"
      ],
      "metadata": {
        "id": "VIRn75zLPSR9"
      },
      "id": "VIRn75zLPSR9",
      "execution_count": null,
      "outputs": []
    },
    {
      "cell_type": "markdown",
      "id": "8a4cfc02",
      "metadata": {
        "id": "8a4cfc02"
      },
      "source": [
        "Consider the following time dependent variation of the PDE starting from the orginal problem formulation:\n",
        "$$\n",
        "u'(t)-u_{xx} = \\alpha(t)f(x)\n",
        "$$\n",
        "\n",
        "for $t\\in [0,T]$, with $\\alpha(t) = \\cos(t)$ and $T = 6\\pi$\n",
        "\n",
        "Use the same finite difference scheme to derive the semi-discrete formulation and solve it using a forward Euler's method.\n",
        "\n",
        "Plot the time dependent solution solution at $x = \\pi/2$, $x=1$, \n",
        "$x=\\pi$\n"
      ]
    },
    {
      "cell_type": "markdown",
      "source": [
        "\n",
        "\n",
        "> *Solution notes*. We want to apply forward Euler to the problem \n",
        "$$u'(t)= u_{xx} + \\alpha(t)f(x)$$\n",
        "therefore we want to compute at each step\n",
        "$$\\frac{u(t_{j+1})-u(t_j)}{h} = F(t_i,u_i)$$\n",
        "where $F(t,x)= u_{xx} + \\alpha(t)f(x)$.\n",
        "\n",
        "\n",
        "> Remember that for $x=x_i$\n",
        "$$u_{xx}(t,x_i) = \\frac{-u_{i-2}(t)+16u_{i-1}(t)-30u_i(t)+16u_{i+1}(t)-u_{i+2}(t)}{12h^2}$$\n",
        "We can discretize $u$ with respect to $x$ and then substitute $u_{xx}(t_j,x_i)$ in the Forward Euler method:\n",
        "$$\\frac{u_i(t_{j+1})-u_i(t_j)}{h} =F(t_j,x_i) = \\frac{-u_{i-2}(t_j)+16u_{i-1}(t_j)-30u_i(t_j)+16u_{i+1}(t_j)-u_{i+2}(t_j)}{12h^2} +  \\alpha(t_j)f(x_i)$$\n",
        "Therefore we can compute the $u_i$ at time step $t_{j+1}$ as:\n",
        "$$u_i(t_{j+1})= \\frac{-u_{i-2}(t_j)+16u_{i-1}(t_j)+(12h-30)u_i(t_j) +16u_{i+1}(t_j)-u_{i+2}(t_j)}{12h}+h\\alpha(t_j)f(x_i)$$\n",
        "We have to compute $u_i$ $\\forall i \\in {0,\\dots,N_x}$, which is equivalent to solving the system $$\\mathbf{u}(t_{j+1}) =\\tilde A \\mathbf{u}(t_{j}) + h \\alpha(t_j)\\mathbf{f}$$\n",
        "with $\\mathbf{u}(t)=\\begin{bmatrix} u_0(t) \\\\ u_1(t) \\\\ \\vdots \\\\ u_{N_x}(t) \\end{bmatrix} \\;$, $\\mathbf{f}=\\begin{bmatrix} f(x_0) \\\\ f(x_1) \\\\ \\vdots \\\\ f(x_{N_x}) \\end{bmatrix} \\;$ and $\\tilde A=I - hA $\n",
        "\n",
        "\n"
      ],
      "metadata": {
        "id": "MsyIksHWybv3"
      },
      "id": "MsyIksHWybv3"
    },
    {
      "cell_type": "code",
      "execution_count": 49,
      "id": "3ffe0689",
      "metadata": {
        "id": "3ffe0689"
      },
      "outputs": [],
      "source": [
        "#h step size for the varaible t, N number of discretization points for the variable x\n",
        "def fe(f,omega,bc,alpha,u0,t0,tf,h,N=100):\n",
        "    timesteps = arange(t0,tf+1e-10, h)\n",
        "    m=len(timesteps)\n",
        "    \n",
        "    # matrix of solutions\n",
        "    # the vector solution at t=t_i will be on row sol[i]\n",
        "    sol = numpy.zeros([m, N])\n",
        "\n",
        "    #f_eval = f(linspace(omega[0], omega[1], n))\n",
        "    A, b = finDif(omega, f, N, bc)\n",
        "    A_tilde = numpy.identity(N) - h*A\n",
        "\n",
        "    #initialize the vector of solutions at t_0\n",
        "    sol[0] = u0\n",
        "\n",
        "    for i in range(m-1):\n",
        "        sol[i+1] =dot(A_tilde,sol[i])+ h*alpha(timesteps[i])*b \n",
        "    \n",
        "    return sol, timesteps\n"
      ]
    },
    {
      "cell_type": "markdown",
      "source": [
        "\n",
        "\n",
        "> Remember that $f(x)=sin(x)$, and that $f$ was defined in $\\Omega=[0,\\pi]$ \n",
        "\n"
      ],
      "metadata": {
        "id": "gaZFEcrgiG3z"
      },
      "id": "gaZFEcrgiG3z"
    },
    {
      "cell_type": "code",
      "source": [
        "omega = [0,pi]\n",
        "f = lambda x : sin(x)\n",
        "n=100\n",
        "bc = [0,0]\n",
        "\n",
        "alpha = lambda t : cos(t)\n",
        "t0=0\n",
        "tf=6*pi\n",
        "u0=zeros((n,))\n",
        "\n",
        "#we define h as such for stability\n",
        "A,b=finDif(omega, f, n, bc)\n",
        "x = linspace(omega[0], omega[1], n)\n",
        "lam_max, v_max =l_max(A,x)\n",
        "h=1/lam_max\n",
        "\n",
        "\n",
        "u, t = fe(f,omega,bc,alpha,u0,t0,tf,h,N=n)\n",
        "\n",
        "\n",
        "x = linspace(omega[0], omega[1], n)\n",
        "figure(figsize = [10, 10])\n",
        "plot(t, u[:, abs(x - 1).argmin()], label = 'x = 1') \n",
        "plot(t, u[:, abs(x - pi / 2).argmin()], label = 'x = $\\pi/2$') \n",
        "plot(t, u[:, abs(x - pi).argmin()], label = 'x = $\\pi$')\n",
        "xlabel('t')\n",
        "legend()\n",
        "show()"
      ],
      "metadata": {
        "colab": {
          "base_uri": "https://localhost:8080/",
          "height": 606
        },
        "id": "mlFDQ40vh0vC",
        "outputId": "7cf6b262-602e-41df-bec5-6056c5edfa79"
      },
      "id": "mlFDQ40vh0vC",
      "execution_count": 69,
      "outputs": [
        {
          "output_type": "display_data",
          "data": {
            "text/plain": [
              "<Figure size 720x720 with 1 Axes>"
            ],
            "image/png": "[encoded data removed]"
          },
          "metadata": {
            "needs_background": "light"
          }
        }
      ]
    },
    {
      "cell_type": "markdown",
      "id": "36936121",
      "metadata": {
        "id": "36936121"
      },
      "source": [
        "Given the original $Au = b$ system, implement an algorithm to compute the eigenvalues and eigenvectors of the matrix $A$. Exploit the computed LU factorization"
      ]
    },
    {
      "cell_type": "markdown",
      "source": [
        "> *Solution's notes*. We will implement a funcion `eigen`, which leverages the power method with deflation: using the power method, $\\lambda_{max}$ will be computed. Then we will define a new matrix $B = A−\\lambda_{max} v_{max} v_{max}^T$, where $v_{max}$ is the normal eigenvalue of $A$ corresponding to the eigenvector $\\lambda_{max}$. B behaves like A in all directions but for the direction of $v_{max}$, which becomes zero. Therefore using the power method I can compute $\\lambda_{max}$ of $B$, which is the second largest eigenvalue of A. This can be iterated until all eigenvectors have been found.\n",
        "\n",
        "> Note that this procedure only works if $A$ is symmetrical,because if $A$ is symmetric then it has an orthogonal base of eigenvectors. In our case A is symmetric, therefore we can use this algorithm.\n",
        "\n"
      ],
      "metadata": {
        "id": "APY-EyvXPRf2"
      },
      "id": "APY-EyvXPRf2"
    },
    {
      "cell_type": "code",
      "execution_count": null,
      "id": "622aadf4",
      "metadata": {
        "id": "622aadf4"
      },
      "outputs": [],
      "source": [
        "def eigen(A):\n",
        "  B=A.copy()\n",
        "  n=len(B)\n",
        "\n",
        "  l= numpy.zeros((n,1))\n",
        "  x = numpy.zeros((n,n))\n",
        "  z0 =linspace(0,1,n)\n",
        "  for i in range(n):\n",
        "    l[i],x[i] = l_max(B,z0,iMax=1500000)\n",
        "    y = x[i].reshape(1,-1)\n",
        "    lam=l[i]/dot(y,y.T)\n",
        "    B = B - lam*dot(y.T,y)\n",
        "  return l, x"
      ]
    },
    {
      "cell_type": "markdown",
      "id": "85d5f64e",
      "metadata": {
        "id": "85d5f64e"
      },
      "source": [
        "Compute the inverse of the matrix A exploiting the derived LU factorization"
      ]
    },
    {
      "cell_type": "markdown",
      "source": [
        "\n",
        "\n",
        "> *Solution notes*. To compute $A^{−1}$ we can solve the $n$ systems $$Ax_i=e_i$$\n",
        "where $x_i$ is the $i$-th column of $A$, and $e_i$ is the $i$-th vector of the canonical base.\n",
        "\n",
        "\n"
      ],
      "metadata": {
        "id": "nnNhzhHPt3Yv"
      },
      "id": "nnNhzhHPt3Yv"
    },
    {
      "cell_type": "code",
      "execution_count": null,
      "id": "6ad7199f",
      "metadata": {
        "id": "6ad7199f"
      },
      "outputs": [],
      "source": [
        "\n",
        "def inverse(A):\n",
        "  N = len(A)\n",
        "  x = numpy.zeros(N)\n",
        "  inv = zeros_like(A)\n",
        "\n",
        "  A=A.copy()\n",
        "  L, U = LU(A)\n",
        "\n",
        "\n",
        "  for i in range(N):\n",
        "    #We define the vector e_i at each step\n",
        "    x[i] = 1.\n",
        "    w = L_solve(L,x)\n",
        "    inv[:,i] = U_solve(U,w)\n",
        "\n",
        "    x[i] = 0.\n",
        "  return inv\n"
      ]
    },
    {
      "cell_type": "markdown",
      "id": "cb22566e",
      "metadata": {
        "id": "cb22566e"
      },
      "source": [
        "Consider the following Cauchy problem\n",
        "$$\n",
        "\\begin{cases}\n",
        "y'= -ty^2 \\quad 0\\le t \\le 2\\\\\n",
        "y(0) = 1\n",
        "\\end{cases}\n",
        "$$\n",
        "Implement a Backward Euler's method in a suitable function and solve the resulting non-linear equation using a Newton's method."
      ]
    },
    {
      "cell_type": "markdown",
      "source": [
        "\n",
        "\n",
        "> *Solution notes*. I will implement a funcion be where $f'$ is given as an input, as well as $f$. This is to let the method be as general as possible, without sacrificing performance.\n",
        "\n",
        "\n"
      ],
      "metadata": {
        "id": "q2PrxmL_PUay"
      },
      "id": "q2PrxmL_PUay"
    },
    {
      "cell_type": "code",
      "source": [
        "def newton(f, f_prime, t, nMax=500, eps=1e-10):\n",
        "  k = 0\n",
        "  x = 1.3\n",
        "  x0 = 0\n",
        "  error = eps + 1.\n",
        "  while (k < nMax and error>eps):\n",
        "    x0 = x\n",
        "    x -= f(t,x)/f_prime(t,x)\n",
        "    error = abs(x-x0)\n",
        "\n",
        "  return x"
      ],
      "metadata": {
        "id": "GDmLVL2tK9F7"
      },
      "id": "GDmLVL2tK9F7",
      "execution_count": null,
      "outputs": []
    },
    {
      "cell_type": "code",
      "execution_count": null,
      "id": "3184e358",
      "metadata": {
        "id": "3184e358"
      },
      "outputs": [],
      "source": [
        "#h is the step size for t \n",
        "def be(y0,t0,tf,h):\n",
        "    timesteps = arange(t0,tf+1e-10, h)\n",
        "    sol = zeros_like(timesteps)\n",
        "    sol[0] = y0\n",
        "    F_prime = lambda t,x : 1 + 2*t*h*x\n",
        "    for i in range(1,len(sol)):\n",
        "        F = lambda t,x : x - sol[i-1] + t*h*(x**2)\n",
        "        sol[i] = newton(F, F_prime, timesteps[i]) \n",
        "    \n",
        "    return sol, timesteps"
      ]
    },
    {
      "cell_type": "code",
      "source": [
        "sol, timesteps = be(1,0,2,1/40)\n",
        "plot(sol)\n",
        "g = lambda t : 2/(2+(t**2))\n",
        "plot(g(timesteps))\n"
      ],
      "metadata": {
        "id": "pVgeoJQTMgNZ"
      },
      "id": "pVgeoJQTMgNZ",
      "execution_count": null,
      "outputs": []
    }
  ],
  "metadata": {
    "kernelspec": {
      "display_name": "Python 3 (ipykernel)",
      "language": "python",
      "name": "python3"
    },
    "language_info": {
      "codemirror_mode": {
        "name": "ipython",
        "version": 3
      },
      "file_extension": ".py",
      "mimetype": "text/x-python",
      "name": "python",
      "nbconvert_exporter": "python",
      "pygments_lexer": "ipython3",
      "version": "3.8.11"
    },
    "colab": {
      "provenance": []
    }
  },
  "nbformat": 4,
  "nbformat_minor": 5
}